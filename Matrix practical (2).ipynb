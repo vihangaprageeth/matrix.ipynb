{
 "cells": [
  {
   "cell_type": "code",
   "execution_count": 1,
   "id": "8d582775",
   "metadata": {},
   "outputs": [],
   "source": [
    "import numpy as np\n",
    "import sympy as sp\n",
    "from sympy import*"
   ]
  },
  {
   "cell_type": "markdown",
   "id": "f7351af1",
   "metadata": {},
   "source": [
    "Matrix creation using Sympy"
   ]
  },
  {
   "cell_type": "code",
   "execution_count": 2,
   "id": "cf672e83",
   "metadata": {},
   "outputs": [
    {
     "data": {
      "text/latex": [
       "$\\displaystyle \\left[\\begin{matrix}0 & 2\\\\2 & 3\\end{matrix}\\right]$"
      ],
      "text/plain": [
       "Matrix([\n",
       "[0, 2],\n",
       "[2, 3]])"
      ]
     },
     "execution_count": 2,
     "metadata": {},
     "output_type": "execute_result"
    }
   ],
   "source": [
    "A=Matrix([[0,2],[2,3]])\n",
    "A"
   ]
  },
  {
   "cell_type": "code",
   "execution_count": 3,
   "id": "4678ffb5",
   "metadata": {},
   "outputs": [
    {
     "data": {
      "text/latex": [
       "$\\displaystyle \\left[\\begin{matrix}1 & 3\\\\4 & 3\\end{matrix}\\right]$"
      ],
      "text/plain": [
       "Matrix([\n",
       "[1, 3],\n",
       "[4, 3]])"
      ]
     },
     "execution_count": 3,
     "metadata": {},
     "output_type": "execute_result"
    }
   ],
   "source": [
    "B=Matrix([[1,3],[4,3]])\n",
    "B"
   ]
  },
  {
   "cell_type": "code",
   "execution_count": 4,
   "id": "1a761eca",
   "metadata": {},
   "outputs": [
    {
     "data": {
      "text/latex": [
       "$\\displaystyle \\left[\\begin{matrix}1 & 5\\\\6 & 6\\end{matrix}\\right]$"
      ],
      "text/plain": [
       "Matrix([\n",
       "[1, 5],\n",
       "[6, 6]])"
      ]
     },
     "execution_count": 4,
     "metadata": {},
     "output_type": "execute_result"
    }
   ],
   "source": [
    "A+B"
   ]
  },
  {
   "cell_type": "code",
   "execution_count": 5,
   "id": "3bf23728",
   "metadata": {},
   "outputs": [
    {
     "data": {
      "text/latex": [
       "$\\displaystyle \\left[\\begin{matrix}-1 & -1\\\\-2 & 0\\end{matrix}\\right]$"
      ],
      "text/plain": [
       "Matrix([\n",
       "[-1, -1],\n",
       "[-2,  0]])"
      ]
     },
     "execution_count": 5,
     "metadata": {},
     "output_type": "execute_result"
    }
   ],
   "source": [
    "A-B"
   ]
  },
  {
   "cell_type": "code",
   "execution_count": 6,
   "id": "2b97dbae",
   "metadata": {},
   "outputs": [
    {
     "data": {
      "text/latex": [
       "$\\displaystyle \\left[\\begin{matrix}8 & 6\\\\14 & 15\\end{matrix}\\right]$"
      ],
      "text/plain": [
       "Matrix([\n",
       "[ 8,  6],\n",
       "[14, 15]])"
      ]
     },
     "execution_count": 6,
     "metadata": {},
     "output_type": "execute_result"
    }
   ],
   "source": [
    "A*B"
   ]
  },
  {
   "cell_type": "code",
   "execution_count": 10,
   "id": "6c4da89c",
   "metadata": {},
   "outputs": [
    {
     "data": {
      "text/latex": [
       "$\\displaystyle \\left[\\begin{matrix}1 & 3\\\\4 & 3\\end{matrix}\\right]$"
      ],
      "text/plain": [
       "Matrix([\n",
       "[1, 3],\n",
       "[4, 3]])"
      ]
     },
     "execution_count": 10,
     "metadata": {},
     "output_type": "execute_result"
    }
   ],
   "source": [
    "c=sp.transpose(B)\n",
    "c"
   ]
  },
  {
   "cell_type": "markdown",
   "id": "373597cc",
   "metadata": {},
   "source": [
    "# Eigen value and Eigen vector"
   ]
  },
  {
   "cell_type": "code",
   "execution_count": 2,
   "id": "0bda9f3a",
   "metadata": {},
   "outputs": [
    {
     "name": "stdout",
     "output_type": "stream",
     "text": [
      "E-value: [-1.  4.]\n",
      "E-vector [[-0.89442719 -0.4472136 ]\n",
      " [ 0.4472136  -0.89442719]]\n"
     ]
    }
   ],
   "source": [
    "import numpy as np\n",
    "from numpy import*\n",
    "a = np.matrix([[0, 2], \n",
    "              [2, 3]])\n",
    "w,v=np.linalg.eig(a)\n",
    "print('E-value:', w)\n",
    "print('E-vector', v)"
   ]
  },
  {
   "cell_type": "code",
   "execution_count": 3,
   "id": "f1eb0b46",
   "metadata": {},
   "outputs": [
    {
     "name": "stdout",
     "output_type": "stream",
     "text": [
      "[[ 63 320  83]\n",
      " [ 77 484 102]\n",
      " [ 84 248 117]]\n"
     ]
    }
   ],
   "source": [
    "\n",
    " \n",
    "\n",
    "mat1 = ([1, 6, 5],[3 ,4, 8],[2, 12, 3])\n",
    "mat2 = ([3, 4, 6],[5, 6, 7],[6,56, 7])\n",
    " \n",
    "\n",
    "res = np.dot(mat1,mat2)\n",
    " \n",
    " \n",
    "\n",
    "print(res)"
   ]
  },
  {
   "cell_type": "markdown",
   "id": "58eea036",
   "metadata": {},
   "source": [
    "# Diagonalization of matrix"
   ]
  },
  {
   "cell_type": "code",
   "execution_count": 23,
   "id": "7ff9ee1c",
   "metadata": {},
   "outputs": [
    {
     "name": "stdout",
     "output_type": "stream",
     "text": [
      "Matrix : Matrix([[1, -3, 3], [3, -5, 3], [6, -6, 4]]) \n",
      "Diagonal of a matrix : Matrix([[-2, 0, 0], [0, -2, 0], [0, 0, 4]])\n"
     ]
    }
   ],
   "source": [
    "M=Matrix([[1, -3, 3], [3, -5, 3], [6, -6, 4]]) \n",
    "print(\"Matrix : {} \".format(M))\n",
    "   \n",
    " \n",
    "#P, D = M.diagonalize()  \n",
    "P, D=M.diagonalize()\n",
    "print(\"Diagonal of a matrix : {}\".format(D))\n",
    "print(\"Diagonal of a matrix : {}\".format(P))"
   ]
  },
  {
   "cell_type": "code",
   "execution_count": 23,
   "id": "322b889f",
   "metadata": {},
   "outputs": [
    {
     "name": "stdout",
     "output_type": "stream",
     "text": [
      "Diagonal of a matrix : Matrix([[1, -1, 1], [1, 0, 1], [0, 1, 2]])\n"
     ]
    }
   ],
   "source": [
    "print(\"Diagonal of a matrix : {}\".format(P))"
   ]
  },
  {
   "cell_type": "markdown",
   "id": "87e55d4f",
   "metadata": {},
   "source": [
    "# Singular value decomposition"
   ]
  },
  {
   "cell_type": "code",
   "execution_count": 11,
   "id": "9b624ab5",
   "metadata": {},
   "outputs": [
    {
     "name": "stdout",
     "output_type": "stream",
     "text": [
      "[[1 2]\n",
      " [3 4]\n",
      " [5 6]]\n",
      "[[-0.2298477   0.88346102  0.40824829]\n",
      " [-0.52474482  0.24078249 -0.81649658]\n",
      " [-0.81964194 -0.40189603  0.40824829]]\n"
     ]
    }
   ],
   "source": [
    "#Example 1\n",
    "from numpy import array\n",
    "from scipy.linalg import svd\n",
    "\n",
    "A = array([[1, 2], [3, 4], [5, 6]])\n",
    "print(A)\n",
    "#AAT=np.dot(A,transpose(A))\n",
    "U, D, VT = svd(A)\n",
    "print(U)\n",
    "\n"
   ]
  },
  {
   "cell_type": "code",
   "execution_count": 12,
   "id": "b2bfc9f8",
   "metadata": {},
   "outputs": [
    {
     "name": "stdout",
     "output_type": "stream",
     "text": [
      "[[-0.61962948 -0.78489445]\n",
      " [-0.78489445  0.61962948]]\n"
     ]
    }
   ],
   "source": [
    "print(VT)"
   ]
  },
  {
   "cell_type": "code",
   "execution_count": 13,
   "id": "de61c245",
   "metadata": {},
   "outputs": [
    {
     "name": "stdout",
     "output_type": "stream",
     "text": [
      "[9.52551809 0.51430058]\n"
     ]
    }
   ],
   "source": [
    "print(D)"
   ]
  },
  {
   "cell_type": "code",
   "execution_count": 14,
   "id": "b6aaf70e",
   "metadata": {},
   "outputs": [
    {
     "data": {
      "text/plain": [
       "array([[ 5, 11, 17],\n",
       "       [11, 25, 39],\n",
       "       [17, 39, 61]])"
      ]
     },
     "execution_count": 14,
     "metadata": {},
     "output_type": "execute_result"
    }
   ],
   "source": [
    "\n",
    "AAT=array([[5,11,17],[11,25,39],[17,39,61]])\n",
    "AAT"
   ]
  },
  {
   "cell_type": "code",
   "execution_count": 15,
   "id": "af7874d0",
   "metadata": {},
   "outputs": [
    {
     "name": "stdout",
     "output_type": "stream",
     "text": [
      "[ 9.07354949e+01+0.j  2.64505087e-01+0.j -8.33124309e-17+0.j]\n",
      "[[-0.2298477  -0.88346102  0.40824829]\n",
      " [-0.52474482 -0.24078249 -0.81649658]\n",
      " [-0.81964194  0.40189603  0.40824829]]\n"
     ]
    }
   ],
   "source": [
    "e3,e4=eig(AAT)\n",
    "print(e3)\n",
    "print(e4)"
   ]
  },
  {
   "cell_type": "code",
   "execution_count": 16,
   "id": "a2ed4cdf",
   "metadata": {},
   "outputs": [
    {
     "name": "stdout",
     "output_type": "stream",
     "text": [
      "[[-0.2298477   0.88346102  0.40824829]\n",
      " [-0.52474482  0.24078249 -0.81649658]\n",
      " [-0.81964194 -0.40189603  0.40824829]]\n"
     ]
    }
   ],
   "source": [
    "print(U)"
   ]
  },
  {
   "cell_type": "code",
   "execution_count": 17,
   "id": "35dbc0a0",
   "metadata": {},
   "outputs": [
    {
     "name": "stdout",
     "output_type": "stream",
     "text": [
      "[9.52551809 0.51430058]\n"
     ]
    }
   ],
   "source": [
    "print(D)"
   ]
  },
  {
   "cell_type": "code",
   "execution_count": 18,
   "id": "142babef",
   "metadata": {},
   "outputs": [
    {
     "name": "stdout",
     "output_type": "stream",
     "text": [
      "[[-0.61962948 -0.78489445]\n",
      " [-0.78489445  0.61962948]]\n"
     ]
    }
   ],
   "source": [
    "print(VT)"
   ]
  },
  {
   "cell_type": "code",
   "execution_count": null,
   "id": "26640ad8",
   "metadata": {},
   "outputs": [],
   "source": []
  },
  {
   "cell_type": "markdown",
   "id": "a0c1e061",
   "metadata": {},
   "source": [
    "# Example"
   ]
  },
  {
   "cell_type": "code",
   "execution_count": 19,
   "id": "fbc1c3e0",
   "metadata": {},
   "outputs": [],
   "source": [
    "#Example 2\n",
    "B=array([[1,3],[3,4],[5,7]])\n",
    "B\n",
    "U1, D1, VT1= svd(B)"
   ]
  },
  {
   "cell_type": "code",
   "execution_count": 36,
   "id": "d8a5f6bd",
   "metadata": {},
   "outputs": [
    {
     "name": "stdout",
     "output_type": "stream",
     "text": [
      "[[-0.29240358  0.9504678  -0.10540926]\n",
      " [-0.48028559 -0.2412771  -0.84327404]\n",
      " [-0.82693766 -0.1959498   0.52704628]]\n"
     ]
    }
   ],
   "source": [
    "print(U1)"
   ]
  },
  {
   "cell_type": "code",
   "execution_count": 37,
   "id": "8efee8b8",
   "metadata": {},
   "outputs": [
    {
     "name": "stdout",
     "output_type": "stream",
     "text": [
      "[10.40038272  0.91216191]\n"
     ]
    }
   ],
   "source": [
    "print(D1)"
   ]
  },
  {
   "cell_type": "code",
   "execution_count": 38,
   "id": "eb80264e",
   "metadata": {},
   "outputs": [
    {
     "name": "stdout",
     "output_type": "stream",
     "text": [
      "[[-0.56420507 -0.82563469]\n",
      " [-0.82563469  0.56420507]]\n"
     ]
    }
   ],
   "source": [
    "print(VT1)"
   ]
  },
  {
   "cell_type": "code",
   "execution_count": 13,
   "id": "292232ca",
   "metadata": {},
   "outputs": [],
   "source": [
    "b=np.matrix('1 2 3;2 4 5;3 5 6')\n"
   ]
  },
  {
   "cell_type": "code",
   "execution_count": 8,
   "id": "e5cfc8f2",
   "metadata": {},
   "outputs": [
    {
     "data": {
      "text/plain": [
       "matrix([[1, 2, 3],\n",
       "        [2, 4, 5],\n",
       "        [3, 5, 6]])"
      ]
     },
     "execution_count": 8,
     "metadata": {},
     "output_type": "execute_result"
    }
   ],
   "source": [
    "b"
   ]
  },
  {
   "cell_type": "code",
   "execution_count": 14,
   "id": "af332a5c",
   "metadata": {},
   "outputs": [
    {
     "data": {
      "text/plain": [
       "matrix([[ 1., -3.,  2.],\n",
       "        [-3.,  3., -1.],\n",
       "        [ 2., -1.,  0.]])"
      ]
     },
     "execution_count": 14,
     "metadata": {},
     "output_type": "execute_result"
    }
   ],
   "source": [
    "np.linalg.inv(b)"
   ]
  },
  {
   "cell_type": "code",
   "execution_count": 32,
   "id": "50ef0a67",
   "metadata": {},
   "outputs": [],
   "source": [
    "c=Matrix([[6,-1],[2,3]])\n",
    "p,d=c.diagonalize()"
   ]
  },
  {
   "cell_type": "code",
   "execution_count": 33,
   "id": "bde84bbf",
   "metadata": {},
   "outputs": [
    {
     "data": {
      "text/latex": [
       "$\\displaystyle \\left[\\begin{matrix}1 & 1\\\\2 & 1\\end{matrix}\\right]$"
      ],
      "text/plain": [
       "Matrix([\n",
       "[1, 1],\n",
       "[2, 1]])"
      ]
     },
     "execution_count": 33,
     "metadata": {},
     "output_type": "execute_result"
    }
   ],
   "source": [
    "p"
   ]
  },
  {
   "cell_type": "code",
   "execution_count": 34,
   "id": "a63c5fad",
   "metadata": {},
   "outputs": [
    {
     "data": {
      "text/latex": [
       "$\\displaystyle \\left[\\begin{matrix}4 & 0\\\\0 & 5\\end{matrix}\\right]$"
      ],
      "text/plain": [
       "Matrix([\n",
       "[4, 0],\n",
       "[0, 5]])"
      ]
     },
     "execution_count": 34,
     "metadata": {},
     "output_type": "execute_result"
    }
   ],
   "source": [
    "d"
   ]
  },
  {
   "cell_type": "code",
   "execution_count": 51,
   "id": "5d679dfa",
   "metadata": {},
   "outputs": [],
   "source": [
    "c=np.matrix([[4,0],[3,-5]])\n",
    "ei,eiv=np.linalg.eig(c)"
   ]
  },
  {
   "cell_type": "code",
   "execution_count": 52,
   "id": "2f55b79e",
   "metadata": {},
   "outputs": [
    {
     "data": {
      "text/plain": [
       "matrix([[ 4,  0],\n",
       "        [ 3, -5]])"
      ]
     },
     "execution_count": 52,
     "metadata": {},
     "output_type": "execute_result"
    }
   ],
   "source": [
    "c"
   ]
  },
  {
   "cell_type": "code",
   "execution_count": 53,
   "id": "393b28fd",
   "metadata": {},
   "outputs": [
    {
     "data": {
      "text/plain": [
       "array([-5.,  4.])"
      ]
     },
     "execution_count": 53,
     "metadata": {},
     "output_type": "execute_result"
    }
   ],
   "source": [
    "ei"
   ]
  },
  {
   "cell_type": "code",
   "execution_count": 37,
   "id": "264031cc",
   "metadata": {},
   "outputs": [
    {
     "data": {
      "text/plain": [
       "matrix([[0.70710678, 0.4472136 ],\n",
       "        [0.70710678, 0.89442719]])"
      ]
     },
     "execution_count": 37,
     "metadata": {},
     "output_type": "execute_result"
    }
   ],
   "source": [
    "eiv"
   ]
  },
  {
   "cell_type": "code",
   "execution_count": 40,
   "id": "34e34526",
   "metadata": {},
   "outputs": [
    {
     "data": {
      "text/plain": [
       "matrix([[ 4,  0],\n",
       "        [ 3, -5]])"
      ]
     },
     "execution_count": 40,
     "metadata": {},
     "output_type": "execute_result"
    }
   ],
   "source": [
    "c1=np.matrix([[4,0],[3,-5]])\n",
    "c1"
   ]
  },
  {
   "cell_type": "code",
   "execution_count": 42,
   "id": "2b589814",
   "metadata": {},
   "outputs": [
    {
     "data": {
      "text/plain": [
       "matrix([[-0.4472136 , -0.89442719],\n",
       "        [-0.89442719,  0.4472136 ]])"
      ]
     },
     "execution_count": 42,
     "metadata": {},
     "output_type": "execute_result"
    }
   ],
   "source": [
    "s,d,v=np.linalg.svd(c1)\n",
    "s"
   ]
  },
  {
   "cell_type": "code",
   "execution_count": 43,
   "id": "9d18cfdd",
   "metadata": {},
   "outputs": [
    {
     "data": {
      "text/plain": [
       "array([6.32455532, 3.16227766])"
      ]
     },
     "execution_count": 43,
     "metadata": {},
     "output_type": "execute_result"
    }
   ],
   "source": [
    "d"
   ]
  },
  {
   "cell_type": "code",
   "execution_count": 44,
   "id": "4e8d623c",
   "metadata": {},
   "outputs": [
    {
     "data": {
      "text/plain": [
       "matrix([[-0.70710678,  0.70710678],\n",
       "        [-0.70710678, -0.70710678]])"
      ]
     },
     "execution_count": 44,
     "metadata": {},
     "output_type": "execute_result"
    }
   ],
   "source": [
    "v"
   ]
  },
  {
   "cell_type": "code",
   "execution_count": 71,
   "id": "79489d14",
   "metadata": {},
   "outputs": [],
   "source": [
    "U=np.matrix([[1,2],[2,-1]])\n",
    "d=np.matrix([[sqrt(40),0],[0,sqrt(10)]])\n",
    "r=np.matrix([[1,-1],[1,1]])"
   ]
  },
  {
   "cell_type": "code",
   "execution_count": 72,
   "id": "fa31c581",
   "metadata": {},
   "outputs": [],
   "source": [
    "f=U*d*r"
   ]
  },
  {
   "cell_type": "code",
   "execution_count": 73,
   "id": "c15c5b97",
   "metadata": {},
   "outputs": [
    {
     "data": {
      "text/plain": [
       "matrix([[4*sqrt(10), 0],\n",
       "        [3*sqrt(10), -5*sqrt(10)]], dtype=object)"
      ]
     },
     "execution_count": 73,
     "metadata": {},
     "output_type": "execute_result"
    }
   ],
   "source": [
    "f"
   ]
  },
  {
   "cell_type": "code",
   "execution_count": 12,
   "id": "9c4a69ab",
   "metadata": {},
   "outputs": [
    {
     "name": "stdout",
     "output_type": "stream",
     "text": [
      "[[ 3  1  1]\n",
      " [-1  3  1]]\n",
      "[[1 2]\n",
      " [3 4]\n",
      " [5 6]]\n",
      "[[-0.2298477   0.88346102  0.40824829]\n",
      " [-0.52474482  0.24078249 -0.81649658]\n",
      " [-0.81964194 -0.40189603  0.40824829]]\n"
     ]
    },
    {
     "data": {
      "text/plain": [
       "array([9.52551809, 0.51430058])"
      ]
     },
     "execution_count": 12,
     "metadata": {},
     "output_type": "execute_result"
    }
   ],
   "source": [
    "#Example 1\n",
    "from numpy import array\n",
    "from scipy.linalg import svd\n",
    "\n",
    "A = array([[3,1,1], [-1,3,1]])\n",
    "print(A)\n",
    "#AAT=np.dot(A,transpose(A))\n",
    "U, D, VT = svd(A)\n",
    "#Example 2\n",
    "from numpy import*\n",
    "from scipy.linalg import svd\n",
    "\n",
    "A = array([[1, 2], [3, 4], [5, 6]])\n",
    "print(A)\n",
    "#AAT=np.dot(A,transpose(A))\n",
    "U, D, VT = svd(A)\n",
    "print(U)\n"
   ]
  },
  {
   "cell_type": "code",
   "execution_count": 13,
   "id": "fa7919e1",
   "metadata": {},
   "outputs": [
    {
     "name": "stdout",
     "output_type": "stream",
     "text": [
      "[9.52551809 0.51430058]\n"
     ]
    }
   ],
   "source": [
    "print(D)"
   ]
  },
  {
   "cell_type": "code",
   "execution_count": 10,
   "id": "85d36153",
   "metadata": {},
   "outputs": [
    {
     "data": {
      "text/plain": [
       "matrix([[9.52551809, 0.        ],\n",
       "        [0.        , 0.51430058],\n",
       "        [0.        , 0.        ]])"
      ]
     },
     "execution_count": 10,
     "metadata": {},
     "output_type": "execute_result"
    }
   ],
   "source": [
    "D1=matrix([[D[0], 0], [0, D[1]], [0,0 ]])\n",
    "U1=matrix(U)\n",
    "VT1=matrix(VT)\n",
    "D1"
   ]
  },
  {
   "cell_type": "code",
   "execution_count": 11,
   "id": "1ba535a7",
   "metadata": {},
   "outputs": [
    {
     "name": "stdout",
     "output_type": "stream",
     "text": [
      "[[1. 2.]\n",
      " [3. 4.]\n",
      " [5. 6.]]\n"
     ]
    }
   ],
   "source": [
    "print(U1*D1*VT1)"
   ]
  },
  {
   "cell_type": "code",
   "execution_count": 3,
   "id": "2b5598c1",
   "metadata": {},
   "outputs": [
    {
     "name": "stdout",
     "output_type": "stream",
     "text": [
      "[[ 4.08248290e-01  8.16496581e-01  4.08248290e-01]\n",
      " [-8.94427191e-01  4.47213595e-01  8.32667268e-16]\n",
      " [-1.82574186e-01 -3.65148372e-01  9.12870929e-01]]\n"
     ]
    }
   ],
   "source": [
    "print(VT)"
   ]
  },
  {
   "cell_type": "code",
   "execution_count": 4,
   "id": "5872dc1d",
   "metadata": {},
   "outputs": [
    {
     "data": {
      "text/plain": [
       "0.4082482904638631"
      ]
     },
     "execution_count": 4,
     "metadata": {},
     "output_type": "execute_result"
    }
   ],
   "source": [
    "1/6**0.5"
   ]
  },
  {
   "cell_type": "code",
   "execution_count": 5,
   "id": "a6bff141",
   "metadata": {},
   "outputs": [
    {
     "data": {
      "text/plain": [
       "-0.9128709291752769"
      ]
     },
     "execution_count": 5,
     "metadata": {},
     "output_type": "execute_result"
    }
   ],
   "source": [
    "-5/30**0.5"
   ]
  }
 ],
 "metadata": {
  "kernelspec": {
   "display_name": "Python 3 (ipykernel)",
   "language": "python",
   "name": "python3"
  },
  "language_info": {
   "codemirror_mode": {
    "name": "ipython",
    "version": 3
   },
   "file_extension": ".py",
   "mimetype": "text/x-python",
   "name": "python",
   "nbconvert_exporter": "python",
   "pygments_lexer": "ipython3",
   "version": "3.11.3"
  },
  "toc": {
   "base_numbering": 1,
   "nav_menu": {},
   "number_sections": true,
   "sideBar": true,
   "skip_h1_title": false,
   "title_cell": "Table of Contents",
   "title_sidebar": "Contents",
   "toc_cell": false,
   "toc_position": {},
   "toc_section_display": true,
   "toc_window_display": false
  }
 },
 "nbformat": 4,
 "nbformat_minor": 5
}
